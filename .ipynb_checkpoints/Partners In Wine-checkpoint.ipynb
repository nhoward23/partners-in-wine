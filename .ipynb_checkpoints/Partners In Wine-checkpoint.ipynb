{
 "cells": [
  {
   "cell_type": "markdown",
   "metadata": {},
   "source": [
    "# Partners in Wine\n",
    "\n",
    "<img src=\"wine.png\" width=\"400\" height=\"500\">\n",
    "\n",
    "## Introduction\n",
    "\n",
    "### What is the dataset?\n",
    "This dataset is various attributes describing the makeup of the wine Portuguese \"Vinho Verde\" wine. The classification is a rating from 1-10 to decribe the quality of the wine. \n",
    "\n",
    "\n",
    "### What will we do with this dataset?\n",
    "\n",
    "Analysis: We analyzed the dataset with K-means clustering in order to discover what attributes are essential to having a quality wine.\n",
    "\n",
    "Classification: We used KNN, Naive Bayes, K-means clustering, and KNN-Bagging Ensemble classifiers on our dataset. We use these to predict the quality of a wine based on various attributes of our choosing.\n",
    "\n",
    "### What classification performed the best?\n",
    "Naive Bayes and K-means clustering were both are best classifiers with an accuracy around 80%. We hypothesize that these perform the best because the classification are distributed in a way that 5 and 6 are our most common label.\n"
   ]
  },
  {
   "cell_type": "code",
   "execution_count": 1,
   "metadata": {},
   "outputs": [],
   "source": [
    "import utils\n",
    "import matplotlib.pyplot as plt\n",
    "\n",
    "table = utils.read_table('red_wine_quality.csv')\n",
    "header = table[0]\n",
    "table = table[1:]"
   ]
  },
  {
   "cell_type": "markdown",
   "metadata": {},
   "source": [
    "## Data Analysis\n",
    "\n",
    "Data Analysis: This section must provide details about the dataset. You must include:\n",
    "Information about the dataset itself, e.g., the attributes and attribute types, the number of instances, and the attribute being used as the label.\n",
    "Relevant summary statistics about the dataset.\n",
    "Data visualizations highlighting important/interesting aspects of your dataset. Visualizations may include frequency distributions, comparisons of attributes (scatterplot, multiple frequency diagrams), box and whisker plots, etc. The goal is not to include all possible diagrams, but instead to select and highlight diagrams that provide insight about the dataset itself.\n",
    "Note that this section must describe the above (in paragraph form) and not just provide diagrams and statistics. Also, each figure included must have a figure caption (Figure number and textual description) that is referenced from the text (e.g., “Figure 2 shows a frequency diagram for ...”).\n",
    "\n",
    "\n",
    "### About the Dataset\n",
    "\n",
    "The dataset has approximately 1600 instances. There are 12 attributes and they are all continuous. They are floats. The attribute being used as the label is the quality attribute. It is ranked on a scale from 1-10. [View the dataset here](https://archive.ics.uci.edu/ml/datasets/wine+quality). \n",
    "\n",
    "The attributes are:\n",
    "- fixed acidity\n",
    "- volatile acidity\n",
    "- citric acid\n",
    "- residual sugar\n",
    "- chlorides \n",
    "- free sulfur dioxide \n",
    "- total sulfur dioxide\n",
    "- density \n",
    "- pH\n",
    "- sulfates\n",
    "- alcohol\n",
    "- **quality**\n",
    "\n",
    "### Summary Statistics and Data Visualization\n",
    "\n",
    "Since we aren't oenologists , we don't really know much about these attributes and their relations. Since we really only care about how it relates to the quality, we will perform K-means clustering to analyze the data. We will cluster them and see what the majority classification is for that cluster. Then, we will get the average of each attribute and see if we can spot any differences between these clusters. \n",
    "\n",
    "However, before we do that, it is important to view the distribution of our classifications. This will give us an insight in our future classification predictions. \n",
    "\n",
    "#### No. of quality ratings:\n",
    "As you can see in Figure 1, the majority of the dataset is classified as either a 5 or 6. There are some 3's, 7's, and 8's but no 9 or 10. This distribution is important to be aware of when we start our classifications."
   ]
  },
  {
   "cell_type": "code",
   "execution_count": 2,
   "metadata": {},
   "outputs": [
    {
     "data": {
      "image/png": "[encoded data removed]",
      "text/plain": [
       "<Figure size 432x288 with 1 Axes>"
      ]
     },
     "metadata": {
      "needs_background": "light"
     },
     "output_type": "display_data"
    }
   ],
   "source": [
    "values, counts = utils.get_frequencies(table, header.index('quality'))\n",
    "plt.figure()\n",
    "plt.bar(values, counts)\n",
    "plt.title(\"Figure 1.\")\n",
    "plt.show()\n"
   ]
  },
  {
   "cell_type": "markdown",
   "metadata": {},
   "source": [
    "#### K-Means Clustering to help with Data Analysis \n",
    "\n",
    "We can use k-means clustering to determine what attributes make for a high quality wine. K-means clustering groups up instances that are closest to eachother with k groups. This image is an example:\n",
    "\n",
    "<img src=\"cluster.png\" width=\"400\" height=\"500\">\n",
    "\n",
    "The code below is used to find the best k for our dataset. We are going to try k=3 to k=10. We will plot the objective function scores in order to find the \"elbow\" point, the point at which the total sum of squares drops less drastically. "
   ]
  },
  {
   "cell_type": "code",
   "execution_count": 3,
   "metadata": {
    "scrolled": false
   },
   "outputs": [
    {
     "name": "stdout",
     "output_type": "stream",
     "text": [
      "3\n",
      "20181.164137619082\n",
      "4\n",
      "17360.11819202622\n",
      "5\n",
      "15022.907290461892\n",
      "6\n",
      "13449.40049327012\n",
      "7\n",
      "12606.12490152986\n",
      "8\n",
      "12017.666899775348\n",
      "9\n",
      "11415.713148442654\n",
      "10\n",
      "10972.850957097786\n"
     ]
    },
    {
     "data": {
      "image/png": "[encoded data removed]",
      "text/plain": [
       "<Figure size 432x288 with 1 Axes>"
      ]
     },
     "metadata": {
      "needs_background": "light"
     },
     "output_type": "display_data"
    }
   ],
   "source": [
    "import random\n",
    "import math\n",
    "import copy\n",
    "import numpy\n",
    "import matplotlib.pyplot as plt\n",
    "import k_means\n",
    "\n",
    "def k_means_clustering(k, table):\n",
    "    # Select k objects in an arbitrary fashion. Use these as the initial set of k centroids.\n",
    "    centroids = k_means.select_init_centroids(k, table)\n",
    "    \n",
    "    match = False\n",
    "    while match == False: \n",
    "        \n",
    "        # Compute the distances of each instance to each centroid\n",
    "        distances_table = [ [] for i in range(len(table)) ]\n",
    "        for centroid in centroids:\n",
    "            k_means.append_distance(table, distances_table, centroid)\n",
    "\n",
    "        # Find the biggest distance and assign instance to that centroid\n",
    "        k_means.find_centroid(distances_table)\n",
    "\n",
    "        # Recalculate the centroids by getting the mean of each cluster\n",
    "        new_centroids = k_means.recalculate_centroids(table, distances_table, [])\n",
    "\n",
    "        # Check to see if the centroids have converged\n",
    "        match = k_means.compare_centroids(centroids, new_centroids)\n",
    "        centroids = new_centroids\n",
    "\n",
    "    # Now we know what instance belongs to what cluster\n",
    "    # table and distances are \"parallel tables\" \n",
    "    score = objective_function(table, distances_table, centroids)\n",
    "    return score, distances_table, centroids\n",
    "    \n",
    "def objective_function(table, cluster_table, centroids):\n",
    "    # Combine and group by cluster \n",
    "    new_table = k_means.combine_tables(table, cluster_table)\n",
    "    cluster_index = len(new_table[0])-1\n",
    "    group_names, groups = utils.group_by(new_table, cluster_index)\n",
    "    \n",
    "    # for each cluster, compute the sum of squares\n",
    "    # add these to a cluster_total of all clusters\n",
    "    total_cluster_score = 0\n",
    "    for i, cluster in enumerate(groups):\n",
    "        distances = []\n",
    "        for row in cluster:\n",
    "            distance = k_means.compute_distance(row, centroids[row[cluster_index]])\n",
    "            distances.append(distance)\n",
    "        total_cluster_score += sum(distances)\n",
    "    print(total_cluster_score)\n",
    "    return total_cluster_score\n",
    "        \n",
    "def find_best_cluster(table, minimum, maximum):\n",
    "    objective_scores = []\n",
    "    x_axis = []\n",
    "    for i in range(minimum, maximum+1):\n",
    "        print(i)\n",
    "        score, cluster_table, centroids = k_means_clustering(i, table)\n",
    "        objective_scores.append(score)\n",
    "        x_axis.append(i)\n",
    "    \n",
    "    plt.figure()\n",
    "    plt.title(\"Figure 2.\")\n",
    "    plt.plot(x_axis, objective_scores)\n",
    "    plt.show()\n",
    "\n",
    "# find the best k for clustering from 3-10.\n",
    "find_best_cluster(table, 3, 10)"
   ]
  },
  {
   "cell_type": "markdown",
   "metadata": {},
   "source": [
    "### Best K is 6! \n",
    "\n",
    "Each time this runs, the values change a little bit but it is roughly the same output everytime. The elbow point appears to be around 6 or 7 everytime, as you can see in Figure 2. We will choose to use 6 clusters. \n",
    "\n",
    "Now that we have found the best number of clusters, we can use them to learn more information about our dataset. \n",
    "We will look at the cluster and see what we can find out by observing the averages of each attribute for each cluster. "
   ]
  },
  {
   "cell_type": "code",
   "execution_count": 4,
   "metadata": {
    "scrolled": false
   },
   "outputs": [
    {
     "name": "stdout",
     "output_type": "stream",
     "text": [
      "13449.40049327012\n",
      "============================================================\n",
      "Cluster 1:\n",
      "============================================================\n",
      "Most Frequent Classification:  6.0\n",
      "\n",
      "Averages for Each Attribute \n",
      "fixed acidity:  8.67\n",
      "volatile acidity:  0.51\n",
      "citric acid:  0.3\n",
      "residual sugar:  2.51\n",
      "chlorides:  0.09\n",
      "free sulfur dioxide:  6.08\n",
      "total sulfur dioxide:  15.15\n",
      "density:  1.0\n",
      "pH:  3.3\n",
      "sulphates:  0.64\n",
      "alcohol:  10.72\n",
      "quality:  5.76\n",
      "============================================================\n",
      "\n",
      "============================================================\n",
      "Cluster 2:\n",
      "============================================================\n",
      "Most Frequent Classification:  5.0\n",
      "\n",
      "Averages for Each Attribute \n",
      "fixed acidity:  8.06\n",
      "volatile acidity:  0.56\n",
      "citric acid:  0.32\n",
      "residual sugar:  3.45\n",
      "chlorides:  0.09\n",
      "free sulfur dioxide:  32.28\n",
      "total sulfur dioxide:  139.06\n",
      "density:  1.0\n",
      "pH:  3.23\n",
      "sulphates:  0.7\n",
      "alcohol:  9.8\n",
      "quality:  5.13\n",
      "============================================================\n",
      "\n",
      "============================================================\n",
      "Cluster 3:\n",
      "============================================================\n",
      "Most Frequent Classification:  5.0\n",
      "\n",
      "Averages for Each Attribute \n",
      "fixed acidity:  8.15\n",
      "volatile acidity:  0.52\n",
      "citric acid:  0.28\n",
      "residual sugar:  2.48\n",
      "chlorides:  0.09\n",
      "free sulfur dioxide:  25.55\n",
      "total sulfur dioxide:  65.09\n",
      "density:  1.0\n",
      "pH:  3.33\n",
      "sulphates:  0.68\n",
      "alcohol:  10.27\n",
      "quality:  5.55\n",
      "============================================================\n",
      "\n",
      "============================================================\n",
      "Cluster 4:\n",
      "============================================================\n",
      "Most Frequent Classification:  6.0\n",
      "\n",
      "Averages for Each Attribute \n",
      "fixed acidity:  8.35\n",
      "volatile acidity:  0.52\n",
      "citric acid:  0.26\n",
      "residual sugar:  2.48\n",
      "chlorides:  0.09\n",
      "free sulfur dioxide:  18.3\n",
      "total sulfur dioxide:  45.16\n",
      "density:  1.0\n",
      "pH:  3.32\n",
      "sulphates:  0.67\n",
      "alcohol:  10.45\n",
      "quality:  5.7\n",
      "============================================================\n",
      "\n",
      "============================================================\n",
      "Cluster 5:\n",
      "============================================================\n",
      "Most Frequent Classification:  6.0\n",
      "\n",
      "Averages for Each Attribute \n",
      "fixed acidity:  8.32\n",
      "volatile acidity:  0.53\n",
      "citric acid:  0.25\n",
      "residual sugar:  2.22\n",
      "chlorides:  0.08\n",
      "free sulfur dioxide:  11.6\n",
      "total sulfur dioxide:  28.85\n",
      "density:  1.0\n",
      "pH:  3.32\n",
      "sulphates:  0.65\n",
      "alcohol:  10.45\n",
      "quality:  5.72\n",
      "============================================================\n",
      "\n",
      "============================================================\n",
      "Cluster 6:\n",
      "============================================================\n",
      "Most Frequent Classification:  5.0\n",
      "\n",
      "Averages for Each Attribute \n",
      "fixed acidity:  7.8\n",
      "volatile acidity:  0.58\n",
      "citric acid:  0.26\n",
      "residual sugar:  3.1\n",
      "chlorides:  0.09\n",
      "free sulfur dioxide:  23.2\n",
      "total sulfur dioxide:  95.5\n",
      "density:  1.0\n",
      "pH:  3.31\n",
      "sulphates:  0.64\n",
      "alcohol:  10.09\n",
      "quality:  5.39\n",
      "============================================================\n",
      "\n"
     ]
    }
   ],
   "source": [
    "# cluster the dataset to form 6 groups \n",
    "score, distances_table, centroids = k_means_clustering(6, table)\n",
    "\n",
    "# create a cluster table\n",
    "cluster_table = copy.deepcopy(table)\n",
    "for i, row in enumerate(cluster_table):\n",
    "    cluster_table[i].append(distances_table[i][-1])\n",
    "\n",
    "# group by cluster \n",
    "group_names, groups = utils.group_by(cluster_table, len(cluster_table[0])-1)\n",
    "\n",
    "# for each cluster, let's find out some stuff.\n",
    "for i, group in enumerate(groups):\n",
    "    values, counts = utils.get_frequencies(group, header.index(\"quality\"))\n",
    "    avg_att_vals = k_means.compute_average(group, len(group[0])-1)\n",
    "    print(\"=\" * 60)\n",
    "    print(\"Cluster \" + str(i+1) + \":\")\n",
    "    print(\"=\" * 60)\n",
    "    \n",
    "    # get the most frequently occuring quality classification\n",
    "    most_freq_qual_index = counts.index(max(counts))\n",
    "    most_freq_quality = values[most_freq_qual_index]\n",
    "    print(\"Most Frequent Classification: \", most_freq_quality)\n",
    "    print()\n",
    "    \n",
    "    # print the average for each attribute\n",
    "    print(\"Averages for Each Attribute \")\n",
    "    for i, attribute in enumerate(avg_att_vals):\n",
    "        print(header[i] + \": \", attribute)\n",
    "    \n",
    "    print(\"=\" * 60)\n",
    "    print()"
   ]
  },
  {
   "cell_type": "markdown",
   "metadata": {},
   "source": [
    "### What can we take away? \n",
    "\n",
    "By observing the averages for each attribute in each cluster, we have discovered some attributes that vary. We noticed that the clusters with the most classifications of a quality 6 have some attributes that vary from clusters that are mostly a 5 rating. \n",
    "\n",
    "Classification 6 has:\n",
    "- a slightly higher fixed acidity\n",
    "- a lower residual sugar\n",
    "- a lower free sulfur dioxide\n",
    "- a lower total sulfur dioxide\n",
    "\n",
    "We can inform the vineyard of this information and to carefully monitor these properties because it appears to have an affect on the quality.\n",
    "\n"
   ]
  },
  {
   "cell_type": "markdown",
   "metadata": {},
   "source": [
    "# Classification Results\n",
    "\n",
    "\n",
    "## Random Subsampling with K-Means Clustering\n",
    "We used the centroids and clusters we created above to make predictions on random instances. We did this by taking random instances and finding what centroid it is closest to. Then, we find the majority class label of that cluster with majority voting. We tested our classifier by using random subsampling. For k times, we create a new training set and recalculated the centroids and clusters. Then we predict all the instances in the test set and compute the accuracy. You can see below that this classifier has a predictive accuracy of 83%. This is a high-performing classifier. I think that this is a high performer because most often the majority class of a cluster will be a 5 or 6. Since most of the instances in our dataset have a quality rating of 5 or 6 it will predict correctly for instances a good number of times. Below we run the k_means clustering with random subsampling and show its accuracy:"
   ]
  },
  {
   "cell_type": "code",
   "execution_count": 5,
   "metadata": {
    "scrolled": false
   },
   "outputs": [
    {
     "name": "stdout",
     "output_type": "stream",
     "text": [
      "============================================================================\n",
      "Predictive Accuracy of K-Means Clustering with Random Subsampling\n",
      "============================================================================\n",
      "Accuracy = 0.80, error rate = 0.20\n",
      "\n"
     ]
    }
   ],
   "source": [
    "#random subsampling \n",
    "random_avg_accuracy, random_stderr = k_means.random_subsampling(5, table, header.index(\"quality\"), centroids, groups)\n",
    "print(\"=\" * 76)\n",
    "print(\"Predictive Accuracy of K-Means Clustering with Random Subsampling\")\n",
    "print(\"=\" * 76)\n",
    "print(\"Accuracy = %0.2f, error rate = %0.2f\" %(random_avg_accuracy, random_stderr))\n",
    "print()"
   ]
  },
  {
   "cell_type": "markdown",
   "metadata": {},
   "source": [
    "## Naive Bayes with Random Subsampling\n",
    "The next classifier we used is Naive Bayes. This classifier uses prior and posterior probabilities and selects the classification with the highest probability to predict the label for each instance. It was designed to take in a list of indicies to include as posterior probabilities. We tested the classifier's predictive ability by using random subsampling. With this testing method, it has an accuracy of around 80%, fluctuating depending on what attributes you choose. \n",
    "\n",
    "Since we discerned that the fixed acidity, residual sugar, free sulfur dioxide, and total sulfur dioxide may result in a higher quality wine, we can test these out with our naive bayes classifier to see these attributes are more predictive of the quality of wine. The results show that the accuracy with these attributes are 81%. \n",
    "\n",
    "We also will test some other attributes, including residual sugar, density, and alcohol. We believe that college students will be more concerned with these attributes so we want to see what will be predicted by using these attributes. The results show that using Naive Bayes with these attributes results in an accuracy of 84%. \n",
    "\n",
    "While the second set of attributes had the highest accuracy, both are in the 80 percentile which is high. Like the classifier above it predicts 5 or 6 most of the time because the majority of the dataset is classified as 5 or 6 so the predictive accuracy is high. "
   ]
  },
  {
   "cell_type": "code",
   "execution_count": 6,
   "metadata": {},
   "outputs": [
    {
     "name": "stdout",
     "output_type": "stream",
     "text": [
      "============================================================================\n",
      "Predictive Accuracy of Naive Bayes with Guassian\n",
      "============================================================================\n",
      "Random Subsample (k=10, 2:1 Train/Test)\n",
      "Naive Bayes: accuracy = 0.82, error rate = 0.18\n",
      "\n",
      "============================================================================\n",
      "Predictive Accuracy of Naive Bayes with Guassian\n",
      "============================================================================\n",
      "Random Subsample (k=10, 2:1 Train/Test)\n",
      "Naive Bayes: accuracy = 0.85, error rate = 0.15\n",
      "\n"
     ]
    }
   ],
   "source": [
    "import naive_bayes\n",
    "\n",
    "# we noticed these attributes vary with K-means so lets see \n",
    "indices = [header.index(\"fixed acidity\"),header.index('residual sugar'),header.index('free sulfur dioxide'), header.index('total sulfur dioxide')]\n",
    "#['fixed acidity', 'volatile acidity', 'citric acid', 'residual sugar', 'chlorides', 'free sulfur dioxide',\n",
    "#'total sulfur dioxide', 'density', 'pH', 'sulphates', 'alcohol', 'quality']\n",
    "\n",
    "# Random SubSampling with Naive Bayes\n",
    "random_avg_accuracy, random_stderr = naive_bayes.random_subsampling(5, table, header.index(\"quality\"), indices)\n",
    "print(\"=\" * 76)\n",
    "print(\"Predictive Accuracy of Naive Bayes with Guassian\")\n",
    "print(\"=\" * 76)\n",
    "print(\"Random Subsample (k=10, 2:1 Train/Test)\")\n",
    "print(\"Naive Bayes: accuracy = %0.2f, error rate = %0.2f\" %(random_avg_accuracy, random_stderr))\n",
    "print()\n",
    "\n",
    "\n",
    "# college students care about these\n",
    "indices = [header.index('residual sugar'),header.index('density'), header.index('alcohol')]\n",
    "\n",
    "\n",
    "# Random SubSampling with Naive Bayes\n",
    "random_avg_accuracy, random_stderr = naive_bayes.random_subsampling(5, table, header.index(\"quality\"), indices)\n",
    "print(\"=\" * 76)\n",
    "print(\"Predictive Accuracy of Naive Bayes with Guassian\")\n",
    "print(\"=\" * 76)\n",
    "print(\"Random Subsample (k=10, 2:1 Train/Test)\")\n",
    "print(\"Naive Bayes: accuracy = %0.2f, error rate = %0.2f\" %(random_avg_accuracy, random_stderr))\n",
    "print()"
   ]
  },
  {
   "cell_type": "markdown",
   "metadata": {},
   "source": [
    "## KNN Using Random Subsampling\n",
    "Using random subsampling, we can randomly select a train and test set and train/test our classifier on those sets. We repeat this process k times and take the average accuracy. The current attributes being tested on are density, sugar, and alcohol. "
   ]
  },
  {
   "cell_type": "code",
   "execution_count": 7,
   "metadata": {},
   "outputs": [
    {
     "name": "stdout",
     "output_type": "stream",
     "text": [
      "============================================================================\n",
      "Predictive Accuracy of KNN using Random Subsampling\n",
      "============================================================================\n",
      "Random Subsample (k=10, 2:1 Train/Test)\n",
      "accuracy: 0.6941176470588235\n",
      "error rate: 0.3058823529411765\n"
     ]
    }
   ],
   "source": [
    "data = table[:100]\n",
    "utils.knn_random_subsampling(data, 5, [3, 7, 10], 11, 10)"
   ]
  },
  {
   "cell_type": "markdown",
   "metadata": {},
   "source": [
    "## Ensemble Classification Using Bootstrap Aggregation on KNN\n",
    "With this classification approach, we first split our dataset into 1/3 testing and 2/3 remainder. Then, the remainder set is split into 2/3 training and 1/3 validation. For each of the k canditate classifiers, we train the classifier on our training set, and then determine it's accuracy over the validation set. We only use this classifier if it's accuracy is over a certain threshold. If it qualifies, it get's added to the ensemble.\n",
    "\n",
    "Each classifier is trained and validated over a different set of random data collected using bagging. The bagging method involves taking our remaining data (size N), and randomly selecting N instances from this data (with replacement) to form our training set. Many instances will be selected more than once, and some not at all. Whatever isn't selected is put into the validation set. \n",
    "\n",
    "The current attributes being tested on are density, sugar, and alcohol. The minimum accuracy is set to 60%."
   ]
  },
  {
   "cell_type": "code",
   "execution_count": 8,
   "metadata": {},
   "outputs": [
    {
     "name": "stdout",
     "output_type": "stream",
     "text": [
      "accuracy: 0.6060606060606061\n",
      "error rate: 0.3939393939393939\n"
     ]
    }
   ],
   "source": [
    "import ensemble_classification as es\n",
    "\n",
    "def bootstrap_aggregation(table, num_class, attribute_indices, classification_index, min_acc, k):\n",
    "    # runs classifiers over instances in the test set to produce predictions\n",
    "    full_test = utils.generate_test_set(table)\n",
    "    test_classifications = utils.get_classifications(full_test, classification_index)\n",
    "    test = utils.normalize_instances(full_test, attribute_indices)\n",
    "    # each approved training set and the accuracy of each said set\n",
    "    training, accuracies = es.select_approved_training_sets(table, num_class, attribute_indices, classification_index, min_acc, k)\n",
    "    correct = 0\n",
    "    if(len(training) == 0):\n",
    "        print(\"ensemble is empty\")\n",
    "    else:\n",
    "        for index, sample in enumerate(test):\n",
    "            for train_set in training:\n",
    "                predictions = []\n",
    "                # generate the prediction for this training set\n",
    "                prediction = es.classifier_prediction(train_set, attribute_indices, classification_index, sample, k)\n",
    "                predictions.append(prediction)\n",
    "            # generate a final prediction from all classifiers using weighted majority voting\n",
    "            final_prediction = utils.generate_weighted_majority_prediction(predictions, accuracies, test_classifications)\n",
    "            full_sample = full_test[index]\n",
    "            actual_classification = full_sample[classification_index]\n",
    "            if (final_prediction == actual_classification):\n",
    "                correct+= 1\n",
    "        accuracy = correct/len(test)\n",
    "        print(\"accuracy: \"+str(accuracy))\n",
    "        print(\"error rate: \"+str(1-accuracy))\n",
    "# use a subset of the dataset otherwise it takes a long time to run\n",
    "data = table[:100]\n",
    "bootstrap_aggregation(data, 20, [3, 7, 10], 11, .6, 5)\n"
   ]
  },
  {
   "cell_type": "markdown",
   "metadata": {},
   "source": [
    "## Conclusion\n",
    "\n",
    "While their are so many ways to combine the data set we tested on, all the instances of the set were relatively similar. They had relatively similar values for each attribute and almost all of them fell into the score category of 4, 5, 6 or 7. For that reason, we found that our classifiers had a really hard time making accurate predictions. The accuracy for KNN using random subsampling as well as the accuracy for our ensemble classification were both pretty low, or at least lower than anticipated. However, what we noticed of the predictions was that our classification methods struggled on wines that were very similar. Most incorrect classifications classified a 5 as a 6 or a 6 as a 5. Because of the similarities among the instances in our dataset, our classification methods struggled.\n",
    "\n",
    "We tested of a variety of different attributes. After using our clustering method, we learned that the attributes fixed acidity, residual sugar, free sulfur dioxide, total sulfur dioxide might have a stronger impact on our classification accuracy. We found this to be true in other cases, like KNN using random subsampling. Initally, with 4 selected random attributes, the accuracy was in the high 50s, low 60s. Using the four attributes previously mentioned, we were able to raise the accuracy to high 60s. However, in the case of our ensemble classification, testing on these attributed did not help our classifiers any more than any other random selection of attributes. "
   ]
  }
 ],
 "metadata": {
  "kernelspec": {
   "display_name": "Python 3",
   "language": "python",
   "name": "python3"
  },
  "language_info": {
   "codemirror_mode": {
    "name": "ipython",
    "version": 3
   },
   "file_extension": ".py",
   "mimetype": "text/x-python",
   "name": "python",
   "nbconvert_exporter": "python",
   "pygments_lexer": "ipython3",
   "version": "3.7.1"
  }
 },
 "nbformat": 4,
 "nbformat_minor": 2
}
